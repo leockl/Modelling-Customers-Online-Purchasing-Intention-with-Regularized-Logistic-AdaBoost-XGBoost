{
 "cells": [
  {
   "cell_type": "markdown",
   "metadata": {},
   "source": [
    "# Modelling Customer's Online Purchasing Intention with Regularized Logistic AdaBoost & XGBoost"
   ]
  },
  {
   "cell_type": "markdown",
   "metadata": {},
   "source": [
    "## Motivation\n",
    "Over the last couple of years, online shopping has become more and more prevalent in Australia, with events such as Cyber Monday, Single’s Day and Click Frenzy. It would be fascinating to see which online factors influences a customer’s purchasing decision.\n",
    "\n",
    "Our aim is to see if we could model a customer's online purchasing intention using customer online behavioural data. Once we have our model, we would like to explain how features in our model would affect a customer's online purchasing intention."
   ]
  },
  {
   "cell_type": "markdown",
   "metadata": {},
   "source": [
    "## The Data\n",
    "The data used in this analysis is the **Online Shoppers Purchasing Intention Dataset** provided by UC Irvine’s Machine Learning Repository. The dataset consists of 12,330 sessions with 10 numerical and 8 categorical features. Each session belong to a different user ending up with a purchase or without a purchase, indicated by the variable **Revenue**. If you’re curious and want more detail about what the data looks like and its features, you can check it out [here](https://archive.ics.uci.edu/ml/datasets/Online+Shoppers+Purchasing+Intention+Dataset#). \n",
    "\n",
    "Let’s start exploring our dataset."
   ]
  },
  {
   "cell_type": "code",
   "execution_count": 40,
   "metadata": {},
   "outputs": [],
   "source": [
    "import pandas as pd\n",
    "import seaborn as sns\n",
    "import numpy as np\n",
    "import matplotlib.pyplot as plt\n",
    "from sklearn import model_selection, linear_model\n",
    "from sklearn.feature_selection import RFECV\n",
    "from sklearn.metrics import f1_score, roc_auc_score\n",
    "from sklearn.ensemble import AdaBoostClassifier\n",
    "from xgboost import XGBClassifier"
   ]
  },
  {
   "cell_type": "code",
   "execution_count": 109,
   "metadata": {},
   "outputs": [
    {
     "data": {
      "text/html": [
       "<div>\n",
       "<style scoped>\n",
       "    .dataframe tbody tr th:only-of-type {\n",
       "        vertical-align: middle;\n",
       "    }\n",
       "\n",
       "    .dataframe tbody tr th {\n",
       "        vertical-align: top;\n",
       "    }\n",
       "\n",
       "    .dataframe thead th {\n",
       "        text-align: right;\n",
       "    }\n",
       "</style>\n",
       "<table border=\"1\" class=\"dataframe\">\n",
       "  <thead>\n",
       "    <tr style=\"text-align: right;\">\n",
       "      <th></th>\n",
       "      <th>Administrative</th>\n",
       "      <th>Administrative_Duration</th>\n",
       "      <th>Informational</th>\n",
       "      <th>Informational_Duration</th>\n",
       "      <th>ProductRelated</th>\n",
       "      <th>ProductRelated_Duration</th>\n",
       "      <th>BounceRates</th>\n",
       "      <th>ExitRates</th>\n",
       "      <th>PageValues</th>\n",
       "      <th>SpecialDay</th>\n",
       "      <th>Month</th>\n",
       "      <th>OperatingSystems</th>\n",
       "      <th>Browser</th>\n",
       "      <th>Region</th>\n",
       "      <th>TrafficType</th>\n",
       "      <th>VisitorType</th>\n",
       "      <th>Weekend</th>\n",
       "      <th>Revenue</th>\n",
       "    </tr>\n",
       "  </thead>\n",
       "  <tbody>\n",
       "    <tr>\n",
       "      <th>0</th>\n",
       "      <td>0</td>\n",
       "      <td>0.0</td>\n",
       "      <td>0</td>\n",
       "      <td>0.0</td>\n",
       "      <td>1</td>\n",
       "      <td>0.000000</td>\n",
       "      <td>0.20</td>\n",
       "      <td>0.20</td>\n",
       "      <td>0.0</td>\n",
       "      <td>0.0</td>\n",
       "      <td>Feb</td>\n",
       "      <td>1</td>\n",
       "      <td>1</td>\n",
       "      <td>1</td>\n",
       "      <td>1</td>\n",
       "      <td>Returning_Visitor</td>\n",
       "      <td>False</td>\n",
       "      <td>False</td>\n",
       "    </tr>\n",
       "    <tr>\n",
       "      <th>1</th>\n",
       "      <td>0</td>\n",
       "      <td>0.0</td>\n",
       "      <td>0</td>\n",
       "      <td>0.0</td>\n",
       "      <td>2</td>\n",
       "      <td>64.000000</td>\n",
       "      <td>0.00</td>\n",
       "      <td>0.10</td>\n",
       "      <td>0.0</td>\n",
       "      <td>0.0</td>\n",
       "      <td>Feb</td>\n",
       "      <td>2</td>\n",
       "      <td>2</td>\n",
       "      <td>1</td>\n",
       "      <td>2</td>\n",
       "      <td>Returning_Visitor</td>\n",
       "      <td>False</td>\n",
       "      <td>False</td>\n",
       "    </tr>\n",
       "    <tr>\n",
       "      <th>2</th>\n",
       "      <td>0</td>\n",
       "      <td>0.0</td>\n",
       "      <td>0</td>\n",
       "      <td>0.0</td>\n",
       "      <td>1</td>\n",
       "      <td>0.000000</td>\n",
       "      <td>0.20</td>\n",
       "      <td>0.20</td>\n",
       "      <td>0.0</td>\n",
       "      <td>0.0</td>\n",
       "      <td>Feb</td>\n",
       "      <td>4</td>\n",
       "      <td>1</td>\n",
       "      <td>9</td>\n",
       "      <td>3</td>\n",
       "      <td>Returning_Visitor</td>\n",
       "      <td>False</td>\n",
       "      <td>False</td>\n",
       "    </tr>\n",
       "    <tr>\n",
       "      <th>3</th>\n",
       "      <td>0</td>\n",
       "      <td>0.0</td>\n",
       "      <td>0</td>\n",
       "      <td>0.0</td>\n",
       "      <td>2</td>\n",
       "      <td>2.666667</td>\n",
       "      <td>0.05</td>\n",
       "      <td>0.14</td>\n",
       "      <td>0.0</td>\n",
       "      <td>0.0</td>\n",
       "      <td>Feb</td>\n",
       "      <td>3</td>\n",
       "      <td>2</td>\n",
       "      <td>2</td>\n",
       "      <td>4</td>\n",
       "      <td>Returning_Visitor</td>\n",
       "      <td>False</td>\n",
       "      <td>False</td>\n",
       "    </tr>\n",
       "    <tr>\n",
       "      <th>4</th>\n",
       "      <td>0</td>\n",
       "      <td>0.0</td>\n",
       "      <td>0</td>\n",
       "      <td>0.0</td>\n",
       "      <td>10</td>\n",
       "      <td>627.500000</td>\n",
       "      <td>0.02</td>\n",
       "      <td>0.05</td>\n",
       "      <td>0.0</td>\n",
       "      <td>0.0</td>\n",
       "      <td>Feb</td>\n",
       "      <td>3</td>\n",
       "      <td>3</td>\n",
       "      <td>1</td>\n",
       "      <td>4</td>\n",
       "      <td>Returning_Visitor</td>\n",
       "      <td>True</td>\n",
       "      <td>False</td>\n",
       "    </tr>\n",
       "  </tbody>\n",
       "</table>\n",
       "</div>"
      ],
      "text/plain": [
       "   Administrative  Administrative_Duration  Informational  \\\n",
       "0               0                      0.0              0   \n",
       "1               0                      0.0              0   \n",
       "2               0                      0.0              0   \n",
       "3               0                      0.0              0   \n",
       "4               0                      0.0              0   \n",
       "\n",
       "   Informational_Duration  ProductRelated  ProductRelated_Duration  \\\n",
       "0                     0.0               1                 0.000000   \n",
       "1                     0.0               2                64.000000   \n",
       "2                     0.0               1                 0.000000   \n",
       "3                     0.0               2                 2.666667   \n",
       "4                     0.0              10               627.500000   \n",
       "\n",
       "   BounceRates  ExitRates  PageValues  SpecialDay Month  OperatingSystems  \\\n",
       "0         0.20       0.20         0.0         0.0   Feb                 1   \n",
       "1         0.00       0.10         0.0         0.0   Feb                 2   \n",
       "2         0.20       0.20         0.0         0.0   Feb                 4   \n",
       "3         0.05       0.14         0.0         0.0   Feb                 3   \n",
       "4         0.02       0.05         0.0         0.0   Feb                 3   \n",
       "\n",
       "   Browser  Region  TrafficType        VisitorType  Weekend  Revenue  \n",
       "0        1       1            1  Returning_Visitor    False    False  \n",
       "1        2       1            2  Returning_Visitor    False    False  \n",
       "2        1       9            3  Returning_Visitor    False    False  \n",
       "3        2       2            4  Returning_Visitor    False    False  \n",
       "4        3       1            4  Returning_Visitor     True    False  "
      ]
     },
     "execution_count": 109,
     "metadata": {},
     "output_type": "execute_result"
    }
   ],
   "source": [
    "# Read in dataset\n",
    "file = \"https://archive.ics.uci.edu/ml/machine-learning-databases/00468/online_shoppers_intention.csv\"\n",
    "df = pd.read_csv(file)\n",
    "df.head()"
   ]
  },
  {
   "cell_type": "code",
   "execution_count": 110,
   "metadata": {},
   "outputs": [
    {
     "data": {
      "text/plain": [
       "(12330, 18)"
      ]
     },
     "execution_count": 110,
     "metadata": {},
     "output_type": "execute_result"
    }
   ],
   "source": [
    "df.shape"
   ]
  },
  {
   "cell_type": "markdown",
   "metadata": {},
   "source": [
    "## Data Preprocessing\n",
    "First, let's have a look to see if features in our dataset have been assigned with the correct data types."
   ]
  },
  {
   "cell_type": "code",
   "execution_count": 111,
   "metadata": {},
   "outputs": [
    {
     "data": {
      "text/plain": [
       "Administrative               int64\n",
       "Administrative_Duration    float64\n",
       "Informational                int64\n",
       "Informational_Duration     float64\n",
       "ProductRelated               int64\n",
       "ProductRelated_Duration    float64\n",
       "BounceRates                float64\n",
       "ExitRates                  float64\n",
       "PageValues                 float64\n",
       "SpecialDay                 float64\n",
       "Month                       object\n",
       "OperatingSystems             int64\n",
       "Browser                      int64\n",
       "Region                       int64\n",
       "TrafficType                  int64\n",
       "VisitorType                 object\n",
       "Weekend                       bool\n",
       "Revenue                       bool\n",
       "dtype: object"
      ]
     },
     "execution_count": 111,
     "metadata": {},
     "output_type": "execute_result"
    }
   ],
   "source": [
    "df.dtypes"
   ]
  },
  {
   "cell_type": "markdown",
   "metadata": {},
   "source": [
    "We see **OperatingSystems**, **Browser**, **Region** and **TrafficType** were assigned as integer data type when these are categorical variables. We also see **Weekend** and **Revenue** assigned as boolean data type when these are categorical. We will change these variables to object data type to reflect that they are categorical."
   ]
  },
  {
   "cell_type": "code",
   "execution_count": 112,
   "metadata": {},
   "outputs": [],
   "source": [
    "lst = ['OperatingSystems', 'Browser', 'Region', 'TrafficType', 'Weekend', 'Revenue']\n",
    "for i in lst:\n",
    "    df[i] = df[i].astype(object)"
   ]
  },
  {
   "cell_type": "code",
   "execution_count": 113,
   "metadata": {},
   "outputs": [
    {
     "data": {
      "text/plain": [
       "Administrative               int64\n",
       "Administrative_Duration    float64\n",
       "Informational                int64\n",
       "Informational_Duration     float64\n",
       "ProductRelated               int64\n",
       "ProductRelated_Duration    float64\n",
       "BounceRates                float64\n",
       "ExitRates                  float64\n",
       "PageValues                 float64\n",
       "SpecialDay                 float64\n",
       "Month                       object\n",
       "OperatingSystems            object\n",
       "Browser                     object\n",
       "Region                      object\n",
       "TrafficType                 object\n",
       "VisitorType                 object\n",
       "Weekend                     object\n",
       "Revenue                     object\n",
       "dtype: object"
      ]
     },
     "execution_count": 113,
     "metadata": {},
     "output_type": "execute_result"
    }
   ],
   "source": [
    "df.dtypes"
   ]
  },
  {
   "cell_type": "markdown",
   "metadata": {},
   "source": [
    "Now let's have a look to see if there are any features with large % of missing values we would want to exclude from our Exploratory Data Analysis later on."
   ]
  },
  {
   "cell_type": "code",
   "execution_count": 114,
   "metadata": {},
   "outputs": [
    {
     "data": {
      "text/plain": [
       "Revenue                    0.0\n",
       "Weekend                    0.0\n",
       "Administrative_Duration    0.0\n",
       "Informational              0.0\n",
       "Informational_Duration     0.0\n",
       "ProductRelated             0.0\n",
       "ProductRelated_Duration    0.0\n",
       "BounceRates                0.0\n",
       "ExitRates                  0.0\n",
       "PageValues                 0.0\n",
       "SpecialDay                 0.0\n",
       "Month                      0.0\n",
       "OperatingSystems           0.0\n",
       "Browser                    0.0\n",
       "Region                     0.0\n",
       "TrafficType                0.0\n",
       "VisitorType                0.0\n",
       "Administrative             0.0\n",
       "dtype: float64"
      ]
     },
     "execution_count": 114,
     "metadata": {},
     "output_type": "execute_result"
    }
   ],
   "source": [
    "(df.isnull().sum(axis=0)/df.shape[0]).sort_values(ascending=False)"
   ]
  },
  {
   "cell_type": "markdown",
   "metadata": {},
   "source": [
    "We could see there are no missing values in any of our features."
   ]
  },
  {
   "cell_type": "markdown",
   "metadata": {},
   "source": [
    "## Exploratory Data Analysis\n",
    "### Summary Statistics\n",
    "Let's first have a look at the summary statistics."
   ]
  },
  {
   "cell_type": "code",
   "execution_count": 115,
   "metadata": {},
   "outputs": [
    {
     "data": {
      "text/html": [
       "<div>\n",
       "<style scoped>\n",
       "    .dataframe tbody tr th:only-of-type {\n",
       "        vertical-align: middle;\n",
       "    }\n",
       "\n",
       "    .dataframe tbody tr th {\n",
       "        vertical-align: top;\n",
       "    }\n",
       "\n",
       "    .dataframe thead th {\n",
       "        text-align: right;\n",
       "    }\n",
       "</style>\n",
       "<table border=\"1\" class=\"dataframe\">\n",
       "  <thead>\n",
       "    <tr style=\"text-align: right;\">\n",
       "      <th></th>\n",
       "      <th>Administrative</th>\n",
       "      <th>Administrative_Duration</th>\n",
       "      <th>Informational</th>\n",
       "      <th>Informational_Duration</th>\n",
       "      <th>ProductRelated</th>\n",
       "      <th>ProductRelated_Duration</th>\n",
       "      <th>BounceRates</th>\n",
       "      <th>ExitRates</th>\n",
       "      <th>PageValues</th>\n",
       "      <th>SpecialDay</th>\n",
       "      <th>Month</th>\n",
       "      <th>OperatingSystems</th>\n",
       "      <th>Browser</th>\n",
       "      <th>Region</th>\n",
       "      <th>TrafficType</th>\n",
       "      <th>VisitorType</th>\n",
       "      <th>Weekend</th>\n",
       "      <th>Revenue</th>\n",
       "    </tr>\n",
       "  </thead>\n",
       "  <tbody>\n",
       "    <tr>\n",
       "      <th>count</th>\n",
       "      <td>12330.000000</td>\n",
       "      <td>12330.000000</td>\n",
       "      <td>12330.000000</td>\n",
       "      <td>12330.000000</td>\n",
       "      <td>12330.000000</td>\n",
       "      <td>12330.000000</td>\n",
       "      <td>12330.000000</td>\n",
       "      <td>12330.000000</td>\n",
       "      <td>12330.000000</td>\n",
       "      <td>12330.000000</td>\n",
       "      <td>12330</td>\n",
       "      <td>12330.0</td>\n",
       "      <td>12330.0</td>\n",
       "      <td>12330.0</td>\n",
       "      <td>12330.0</td>\n",
       "      <td>12330</td>\n",
       "      <td>12330</td>\n",
       "      <td>12330</td>\n",
       "    </tr>\n",
       "    <tr>\n",
       "      <th>unique</th>\n",
       "      <td>NaN</td>\n",
       "      <td>NaN</td>\n",
       "      <td>NaN</td>\n",
       "      <td>NaN</td>\n",
       "      <td>NaN</td>\n",
       "      <td>NaN</td>\n",
       "      <td>NaN</td>\n",
       "      <td>NaN</td>\n",
       "      <td>NaN</td>\n",
       "      <td>NaN</td>\n",
       "      <td>10</td>\n",
       "      <td>8.0</td>\n",
       "      <td>13.0</td>\n",
       "      <td>9.0</td>\n",
       "      <td>20.0</td>\n",
       "      <td>3</td>\n",
       "      <td>2</td>\n",
       "      <td>2</td>\n",
       "    </tr>\n",
       "    <tr>\n",
       "      <th>top</th>\n",
       "      <td>NaN</td>\n",
       "      <td>NaN</td>\n",
       "      <td>NaN</td>\n",
       "      <td>NaN</td>\n",
       "      <td>NaN</td>\n",
       "      <td>NaN</td>\n",
       "      <td>NaN</td>\n",
       "      <td>NaN</td>\n",
       "      <td>NaN</td>\n",
       "      <td>NaN</td>\n",
       "      <td>May</td>\n",
       "      <td>2.0</td>\n",
       "      <td>2.0</td>\n",
       "      <td>1.0</td>\n",
       "      <td>2.0</td>\n",
       "      <td>Returning_Visitor</td>\n",
       "      <td>False</td>\n",
       "      <td>False</td>\n",
       "    </tr>\n",
       "    <tr>\n",
       "      <th>freq</th>\n",
       "      <td>NaN</td>\n",
       "      <td>NaN</td>\n",
       "      <td>NaN</td>\n",
       "      <td>NaN</td>\n",
       "      <td>NaN</td>\n",
       "      <td>NaN</td>\n",
       "      <td>NaN</td>\n",
       "      <td>NaN</td>\n",
       "      <td>NaN</td>\n",
       "      <td>NaN</td>\n",
       "      <td>3364</td>\n",
       "      <td>6601.0</td>\n",
       "      <td>7961.0</td>\n",
       "      <td>4780.0</td>\n",
       "      <td>3913.0</td>\n",
       "      <td>10551</td>\n",
       "      <td>9462</td>\n",
       "      <td>10422</td>\n",
       "    </tr>\n",
       "    <tr>\n",
       "      <th>mean</th>\n",
       "      <td>2.315166</td>\n",
       "      <td>80.818611</td>\n",
       "      <td>0.503569</td>\n",
       "      <td>34.472398</td>\n",
       "      <td>31.731468</td>\n",
       "      <td>1194.746220</td>\n",
       "      <td>0.022191</td>\n",
       "      <td>0.043073</td>\n",
       "      <td>5.889258</td>\n",
       "      <td>0.061427</td>\n",
       "      <td>NaN</td>\n",
       "      <td>NaN</td>\n",
       "      <td>NaN</td>\n",
       "      <td>NaN</td>\n",
       "      <td>NaN</td>\n",
       "      <td>NaN</td>\n",
       "      <td>NaN</td>\n",
       "      <td>NaN</td>\n",
       "    </tr>\n",
       "    <tr>\n",
       "      <th>std</th>\n",
       "      <td>3.321784</td>\n",
       "      <td>176.779107</td>\n",
       "      <td>1.270156</td>\n",
       "      <td>140.749294</td>\n",
       "      <td>44.475503</td>\n",
       "      <td>1913.669288</td>\n",
       "      <td>0.048488</td>\n",
       "      <td>0.048597</td>\n",
       "      <td>18.568437</td>\n",
       "      <td>0.198917</td>\n",
       "      <td>NaN</td>\n",
       "      <td>NaN</td>\n",
       "      <td>NaN</td>\n",
       "      <td>NaN</td>\n",
       "      <td>NaN</td>\n",
       "      <td>NaN</td>\n",
       "      <td>NaN</td>\n",
       "      <td>NaN</td>\n",
       "    </tr>\n",
       "    <tr>\n",
       "      <th>min</th>\n",
       "      <td>0.000000</td>\n",
       "      <td>0.000000</td>\n",
       "      <td>0.000000</td>\n",
       "      <td>0.000000</td>\n",
       "      <td>0.000000</td>\n",
       "      <td>0.000000</td>\n",
       "      <td>0.000000</td>\n",
       "      <td>0.000000</td>\n",
       "      <td>0.000000</td>\n",
       "      <td>0.000000</td>\n",
       "      <td>NaN</td>\n",
       "      <td>NaN</td>\n",
       "      <td>NaN</td>\n",
       "      <td>NaN</td>\n",
       "      <td>NaN</td>\n",
       "      <td>NaN</td>\n",
       "      <td>NaN</td>\n",
       "      <td>NaN</td>\n",
       "    </tr>\n",
       "    <tr>\n",
       "      <th>25%</th>\n",
       "      <td>0.000000</td>\n",
       "      <td>0.000000</td>\n",
       "      <td>0.000000</td>\n",
       "      <td>0.000000</td>\n",
       "      <td>7.000000</td>\n",
       "      <td>184.137500</td>\n",
       "      <td>0.000000</td>\n",
       "      <td>0.014286</td>\n",
       "      <td>0.000000</td>\n",
       "      <td>0.000000</td>\n",
       "      <td>NaN</td>\n",
       "      <td>NaN</td>\n",
       "      <td>NaN</td>\n",
       "      <td>NaN</td>\n",
       "      <td>NaN</td>\n",
       "      <td>NaN</td>\n",
       "      <td>NaN</td>\n",
       "      <td>NaN</td>\n",
       "    </tr>\n",
       "    <tr>\n",
       "      <th>50%</th>\n",
       "      <td>1.000000</td>\n",
       "      <td>7.500000</td>\n",
       "      <td>0.000000</td>\n",
       "      <td>0.000000</td>\n",
       "      <td>18.000000</td>\n",
       "      <td>598.936905</td>\n",
       "      <td>0.003112</td>\n",
       "      <td>0.025156</td>\n",
       "      <td>0.000000</td>\n",
       "      <td>0.000000</td>\n",
       "      <td>NaN</td>\n",
       "      <td>NaN</td>\n",
       "      <td>NaN</td>\n",
       "      <td>NaN</td>\n",
       "      <td>NaN</td>\n",
       "      <td>NaN</td>\n",
       "      <td>NaN</td>\n",
       "      <td>NaN</td>\n",
       "    </tr>\n",
       "    <tr>\n",
       "      <th>75%</th>\n",
       "      <td>4.000000</td>\n",
       "      <td>93.256250</td>\n",
       "      <td>0.000000</td>\n",
       "      <td>0.000000</td>\n",
       "      <td>38.000000</td>\n",
       "      <td>1464.157213</td>\n",
       "      <td>0.016813</td>\n",
       "      <td>0.050000</td>\n",
       "      <td>0.000000</td>\n",
       "      <td>0.000000</td>\n",
       "      <td>NaN</td>\n",
       "      <td>NaN</td>\n",
       "      <td>NaN</td>\n",
       "      <td>NaN</td>\n",
       "      <td>NaN</td>\n",
       "      <td>NaN</td>\n",
       "      <td>NaN</td>\n",
       "      <td>NaN</td>\n",
       "    </tr>\n",
       "    <tr>\n",
       "      <th>max</th>\n",
       "      <td>27.000000</td>\n",
       "      <td>3398.750000</td>\n",
       "      <td>24.000000</td>\n",
       "      <td>2549.375000</td>\n",
       "      <td>705.000000</td>\n",
       "      <td>63973.522230</td>\n",
       "      <td>0.200000</td>\n",
       "      <td>0.200000</td>\n",
       "      <td>361.763742</td>\n",
       "      <td>1.000000</td>\n",
       "      <td>NaN</td>\n",
       "      <td>NaN</td>\n",
       "      <td>NaN</td>\n",
       "      <td>NaN</td>\n",
       "      <td>NaN</td>\n",
       "      <td>NaN</td>\n",
       "      <td>NaN</td>\n",
       "      <td>NaN</td>\n",
       "    </tr>\n",
       "  </tbody>\n",
       "</table>\n",
       "</div>"
      ],
      "text/plain": [
       "        Administrative  Administrative_Duration  Informational  \\\n",
       "count     12330.000000             12330.000000   12330.000000   \n",
       "unique             NaN                      NaN            NaN   \n",
       "top                NaN                      NaN            NaN   \n",
       "freq               NaN                      NaN            NaN   \n",
       "mean          2.315166                80.818611       0.503569   \n",
       "std           3.321784               176.779107       1.270156   \n",
       "min           0.000000                 0.000000       0.000000   \n",
       "25%           0.000000                 0.000000       0.000000   \n",
       "50%           1.000000                 7.500000       0.000000   \n",
       "75%           4.000000                93.256250       0.000000   \n",
       "max          27.000000              3398.750000      24.000000   \n",
       "\n",
       "        Informational_Duration  ProductRelated  ProductRelated_Duration  \\\n",
       "count             12330.000000    12330.000000             12330.000000   \n",
       "unique                     NaN             NaN                      NaN   \n",
       "top                        NaN             NaN                      NaN   \n",
       "freq                       NaN             NaN                      NaN   \n",
       "mean                 34.472398       31.731468              1194.746220   \n",
       "std                 140.749294       44.475503              1913.669288   \n",
       "min                   0.000000        0.000000                 0.000000   \n",
       "25%                   0.000000        7.000000               184.137500   \n",
       "50%                   0.000000       18.000000               598.936905   \n",
       "75%                   0.000000       38.000000              1464.157213   \n",
       "max                2549.375000      705.000000             63973.522230   \n",
       "\n",
       "         BounceRates     ExitRates    PageValues    SpecialDay  Month  \\\n",
       "count   12330.000000  12330.000000  12330.000000  12330.000000  12330   \n",
       "unique           NaN           NaN           NaN           NaN     10   \n",
       "top              NaN           NaN           NaN           NaN    May   \n",
       "freq             NaN           NaN           NaN           NaN   3364   \n",
       "mean        0.022191      0.043073      5.889258      0.061427    NaN   \n",
       "std         0.048488      0.048597     18.568437      0.198917    NaN   \n",
       "min         0.000000      0.000000      0.000000      0.000000    NaN   \n",
       "25%         0.000000      0.014286      0.000000      0.000000    NaN   \n",
       "50%         0.003112      0.025156      0.000000      0.000000    NaN   \n",
       "75%         0.016813      0.050000      0.000000      0.000000    NaN   \n",
       "max         0.200000      0.200000    361.763742      1.000000    NaN   \n",
       "\n",
       "        OperatingSystems  Browser   Region  TrafficType        VisitorType  \\\n",
       "count            12330.0  12330.0  12330.0      12330.0              12330   \n",
       "unique               8.0     13.0      9.0         20.0                  3   \n",
       "top                  2.0      2.0      1.0          2.0  Returning_Visitor   \n",
       "freq              6601.0   7961.0   4780.0       3913.0              10551   \n",
       "mean                 NaN      NaN      NaN          NaN                NaN   \n",
       "std                  NaN      NaN      NaN          NaN                NaN   \n",
       "min                  NaN      NaN      NaN          NaN                NaN   \n",
       "25%                  NaN      NaN      NaN          NaN                NaN   \n",
       "50%                  NaN      NaN      NaN          NaN                NaN   \n",
       "75%                  NaN      NaN      NaN          NaN                NaN   \n",
       "max                  NaN      NaN      NaN          NaN                NaN   \n",
       "\n",
       "       Weekend Revenue  \n",
       "count    12330   12330  \n",
       "unique       2       2  \n",
       "top      False   False  \n",
       "freq      9462   10422  \n",
       "mean       NaN     NaN  \n",
       "std        NaN     NaN  \n",
       "min        NaN     NaN  \n",
       "25%        NaN     NaN  \n",
       "50%        NaN     NaN  \n",
       "75%        NaN     NaN  \n",
       "max        NaN     NaN  "
      ]
     },
     "execution_count": 115,
     "metadata": {},
     "output_type": "execute_result"
    }
   ],
   "source": [
    "df.describe(include='all')"
   ]
  },
  {
   "cell_type": "markdown",
   "metadata": {},
   "source": [
    "We see customers spend significantly more time on product related pages (**ProductRelated_Duration**) than on administrative pages (**Administrative_Duration**) or informational pages (**Informational_Duration**). Let's have a look if spending significantly more time on product related pages translates to a purchase or not."
   ]
  },
  {
   "cell_type": "code",
   "execution_count": 116,
   "metadata": {},
   "outputs": [
    {
     "data": {
      "text/plain": [
       "<matplotlib.axes._subplots.AxesSubplot at 0x538fac8>"
      ]
     },
     "execution_count": 116,
     "metadata": {},
     "output_type": "execute_result"
    },
    {
     "data": {
      "image/png": "[encoded data removed]",
      "text/plain": [
       "<Figure size 720x720 with 1 Axes>"
      ]
     },
     "metadata": {
      "needs_background": "light"
     },
     "output_type": "display_data"
    }
   ],
   "source": [
    "# Plot boxplot\n",
    "plt.figure(figsize=(10,10))\n",
    "sns.boxplot(x='Revenue',  y='ProductRelated_Duration', data=df)"
   ]
  },
  {
   "cell_type": "markdown",
   "metadata": {},
   "source": [
    "We see the two boxplots overlaps which means time spent on product related pages doesn't necessarily result in a purchase. \n",
    "\n",
    "Since customers are spending most of their time on product related pages where it doesn't necessarily result in a purchase, it might be beneficial for the e-commerce website to produce pop-up ads when customers are on product related pages, to increase a customer's purchasing intention."
   ]
  },
  {
   "cell_type": "markdown",
   "metadata": {},
   "source": [
    "From the summary statistics, we also see the highest number of visits to the e-commerce website occurs during May. Lets investigate further if these higher number of visits in May results in a purchase or not."
   ]
  },
  {
   "cell_type": "code",
   "execution_count": 117,
   "metadata": {},
   "outputs": [
    {
     "data": {
      "text/plain": [
       "array(['Feb', 'Mar', 'May', 'Oct', 'June', 'Jul', 'Aug', 'Nov', 'Sep',\n",
       "       'Dec'], dtype=object)"
      ]
     },
     "execution_count": 117,
     "metadata": {},
     "output_type": "execute_result"
    }
   ],
   "source": [
    "df['Month'].unique()"
   ]
  },
  {
   "cell_type": "code",
   "execution_count": 118,
   "metadata": {},
   "outputs": [],
   "source": [
    "# Code Month to numerical values\n",
    "df['Month_no'] = df['Month'].map({'Jan': 1, 'Feb': 2, 'Mar': 3, 'Apr': 4, 'May': 5, 'June': 6, \n",
    "                                  'Jul': 7, 'Aug': 8, 'Sep': 9, 'Oct': 10, 'Nov': 11, 'Dec': 12})"
   ]
  },
  {
   "cell_type": "code",
   "execution_count": 119,
   "metadata": {},
   "outputs": [],
   "source": [
    "# Create dataframe for total number of visits per month\n",
    "df1 = df[['Month', 'Month_no', 'Revenue']]\n",
    "df2 = df1.groupby(['Month', 'Month_no'], as_index=False).count().sort_values(by='Month_no')\n",
    "\n",
    "# Create dataframe for number of visits ending up without a purchase per month\n",
    "df3 = df1[df1['Revenue'] == False]\n",
    "df4 = df3.groupby(['Month', 'Month_no'], as_index=False).count().sort_values(by='Month_no')\n",
    "\n",
    "# Create dataframe for number of visits ending up with a purchase per month\n",
    "df5 = df1[df1['Revenue'] == True]\n",
    "df6 = df5.groupby(['Month', 'Month_no'], as_index=False).count().sort_values(by='Month_no')"
   ]
  },
  {
   "cell_type": "code",
   "execution_count": 122,
   "metadata": {},
   "outputs": [
    {
     "data": {
      "image/png": "[encoded data removed]",
      "text/plain": [
       "<Figure size 432x288 with 1 Axes>"
      ]
     },
     "metadata": {
      "needs_background": "light"
     },
     "output_type": "display_data"
    }
   ],
   "source": [
    "# Plot line plot\n",
    "plt.plot(df2['Month'], df2['Revenue'], label='Total No. of Visits', color='black')\n",
    "plt.plot(df4['Month'], df4['Revenue'], label='No. of Visits Ending Without A Purchase', color='red')\n",
    "plt.plot(df6['Month'], df6['Revenue'], label='No. of Visits Ending With A Purchase', color='blue')\n",
    "plt.xlabel('Month')\n",
    "plt.ylabel('Number of Visits')\n",
    "plt.title('Number of Visits vs. Month')\n",
    "plt.legend()\n",
    "plt.ylim(0, 4800)\n",
    "plt.show()"
   ]
  },
  {
   "cell_type": "markdown",
   "metadata": {},
   "source": [
    "First, we note that there are missing data for two months, January and April. We also see two peaks which occurs in May and November. We see majority of the total number of visits occuring during May does not result in a purchase (since the red line peak is close to the black line peak in May). We see it is slightly better during November, where more visits result in a purchase (since the red line peak is further from the black line peak in November)."
   ]
  },
  {
   "cell_type": "markdown",
   "metadata": {},
   "source": [
    "Looking at **Revenue** in the summary statistics, we see there is a high proportion of visits results without a purchase compared to with a purchase. Let's have a look at **Revenue** using a bar chart."
   ]
  },
  {
   "cell_type": "code",
   "execution_count": 123,
   "metadata": {},
   "outputs": [
    {
     "data": {
      "image/png": "[encoded data removed]",
      "text/plain": [
       "<Figure size 432x288 with 1 Axes>"
      ]
     },
     "metadata": {
      "needs_background": "light"
     },
     "output_type": "display_data"
    }
   ],
   "source": [
    "# Plot bar chart\n",
    "plt.bar(df['Revenue'].unique()[0], (df['Revenue'].value_counts()[0]/df.shape[0])*100, color='red')\n",
    "plt.bar(df['Revenue'].unique()[1], (df['Revenue'].value_counts()[1]/df.shape[0])*100, color='blue')\n",
    "plt.xticks(np.arange(len(df['Revenue'].unique())), df['Revenue'].unique())\n",
    "plt.xlabel('Revenue')\n",
    "plt.ylabel('Number of Visits %')\n",
    "plt.title('Number of Visits Ending Without A Purchase vs. Ending With A Purchase')\n",
    "plt.show()"
   ]
  },
  {
   "cell_type": "markdown",
   "metadata": {},
   "source": [
    "We see only about 15% of visits results in a purchase compared to 85% of visits with no purchase. Because of the low number of observations in one of the target class this could cause an imbalance issue to occur during our model building process. We will keep this in mind for now and consider using boosting techniques if our model does not perform adequately."
   ]
  },
  {
   "cell_type": "markdown",
   "metadata": {},
   "source": [
    "Since there are only two classes in our target variable **Revenue**, we will choose logistic regression (with binary classes) to build our model."
   ]
  },
  {
   "cell_type": "markdown",
   "metadata": {},
   "source": [
    "### Correlation Analysis\n",
    "Now let's have a look at the correlation between features, using a correlation heatmap."
   ]
  },
  {
   "cell_type": "code",
   "execution_count": 124,
   "metadata": {},
   "outputs": [],
   "source": [
    "# Cast features to integers to calculate correlation\n",
    "df['OperatingSystems_no'] = df['OperatingSystems'].astype(int)\n",
    "df['Browser_no'] = df['Browser'].astype(int)\n",
    "df['Region_no'] = df['Region'].astype(int)\n",
    "df['TrafficType_no'] = df['TrafficType'].astype(int)\n",
    "df['Weekend_no'] = df['Weekend'].astype(int)"
   ]
  },
  {
   "cell_type": "code",
   "execution_count": 125,
   "metadata": {},
   "outputs": [
    {
     "data": {
      "text/plain": [
       "array(['Returning_Visitor', 'New_Visitor', 'Other'], dtype=object)"
      ]
     },
     "execution_count": 125,
     "metadata": {},
     "output_type": "execute_result"
    }
   ],
   "source": [
    "# Code VisitorType to numerical values\n",
    "df['VisitorType'].unique()"
   ]
  },
  {
   "cell_type": "code",
   "execution_count": 126,
   "metadata": {},
   "outputs": [],
   "source": [
    "df['VisitorType_no'] = df['VisitorType'].map({'Returning_Visitor': 1, 'New_Visitor': 2, 'Other': 3})"
   ]
  },
  {
   "cell_type": "code",
   "execution_count": 127,
   "metadata": {},
   "outputs": [
    {
     "data": {
      "image/png": "[encoded data removed]",
      "text/plain": [
       "<Figure size 792x648 with 2 Axes>"
      ]
     },
     "metadata": {
      "needs_background": "light"
     },
     "output_type": "display_data"
    }
   ],
   "source": [
    "# Plot correlation heatmap\n",
    "plt.figure(figsize=(11, 9))\n",
    "sns.heatmap(df.drop(['Revenue'], axis=1).corr(), annot=True, cmap=\"RdYlGn\")\n",
    "plt.suptitle(\"Pearson Correlation Heatmap\")\n",
    "plt.show()"
   ]
  },
  {
   "cell_type": "markdown",
   "metadata": {},
   "source": [
    "We see there are strong correlation between some features. For example, **ProductRelated** and **ProductRelated_Duration**, **BounceRates** and **ExitRates** are strongly correlated. We will keep these collinearities between our features in mind for now."
   ]
  },
  {
   "cell_type": "markdown",
   "metadata": {},
   "source": [
    "## Feature Selection\n",
    "After exploring our data, let us now select which features to go into our model.\n",
    "\n",
    "We will use scikit-learn's **RFECV** package in selecting our features. RFE stands for recursive feature elimination. This method simply works by first considering all features to be fitted into our model, then the least important feature is removed. This procedure is repeated, where at each step fitting the previous set of features and removing one feature at a time, until the chosen desired number of features is eventually reached.\n",
    "\n",
    "We will use cross-validation in **RFECV** (with default 5-folds) to find the optimal desired number of features to select. We will also use logistic regression as the base estimator in **RFECV**, as the final model we want to build is of the same type."
   ]
  },
  {
   "cell_type": "code",
   "execution_count": 128,
   "metadata": {},
   "outputs": [],
   "source": [
    "# Create feature matrix excluding any duplicate object data type features\n",
    "X_fs = df.select_dtypes(exclude=['object']).values\n",
    "\n",
    "# Create target vector\n",
    "Y_fs = df['Revenue'].astype(int).values\n",
    "\n",
    "# penalty='none' chosen to exclude regularization at this stage\n",
    "# max_iter=10000 chosen to ensure there is enough iterations for convergence\n",
    "# scoring='f1' chosen to return F1-score\n",
    "# n_jobs=-1 chosen to use all CPU processors for faster processsing\n",
    "rfecv = RFECV(linear_model.LogisticRegression(penalty='none', max_iter=10000), scoring='f1', n_jobs=-1).fit(X_fs, Y_fs)"
   ]
  },
  {
   "cell_type": "markdown",
   "metadata": {},
   "source": [
    "Now, let's find the optimal desired number of features to select."
   ]
  },
  {
   "cell_type": "code",
   "execution_count": 131,
   "metadata": {},
   "outputs": [
    {
     "data": {
      "image/png": "[encoded data removed]",
      "text/plain": [
       "<Figure size 432x288 with 1 Axes>"
      ]
     },
     "metadata": {
      "needs_background": "light"
     },
     "output_type": "display_data"
    }
   ],
   "source": [
    "# Plot F1 score vs. number of features\n",
    "plt.plot(np.arange(1, 18, 1), rfecv.grid_scores_[0:17])\n",
    "plt.xlabel('Number of Features')\n",
    "plt.ylabel('F1 Score')\n",
    "plt.title('F1 Score vs. Number of Features')\n",
    "plt.show()"
   ]
  },
  {
   "cell_type": "markdown",
   "metadata": {},
   "source": [
    "From the plot, we see the F1 score initially increases (due to underfitting of our model) until it reaches a maximum at 9 features and then no futher improvement or a slight decrease (due to overfitting of our model). We will choose 9 as the desired number of features to go into our model.\n",
    "\n",
    "Let's have a look at which 9 features were selected by **RFECV**."
   ]
  },
  {
   "cell_type": "code",
   "execution_count": 129,
   "metadata": {},
   "outputs": [
    {
     "data": {
      "text/html": [
       "<div>\n",
       "<style scoped>\n",
       "    .dataframe tbody tr th:only-of-type {\n",
       "        vertical-align: middle;\n",
       "    }\n",
       "\n",
       "    .dataframe tbody tr th {\n",
       "        vertical-align: top;\n",
       "    }\n",
       "\n",
       "    .dataframe thead th {\n",
       "        text-align: right;\n",
       "    }\n",
       "</style>\n",
       "<table border=\"1\" class=\"dataframe\">\n",
       "  <thead>\n",
       "    <tr style=\"text-align: right;\">\n",
       "      <th></th>\n",
       "      <th>Feature Selected?</th>\n",
       "    </tr>\n",
       "  </thead>\n",
       "  <tbody>\n",
       "    <tr>\n",
       "      <th>Administrative</th>\n",
       "      <td>False</td>\n",
       "    </tr>\n",
       "    <tr>\n",
       "      <th>Administrative_Duration</th>\n",
       "      <td>False</td>\n",
       "    </tr>\n",
       "    <tr>\n",
       "      <th>Informational</th>\n",
       "      <td>True</td>\n",
       "    </tr>\n",
       "    <tr>\n",
       "      <th>Informational_Duration</th>\n",
       "      <td>False</td>\n",
       "    </tr>\n",
       "    <tr>\n",
       "      <th>ProductRelated</th>\n",
       "      <td>False</td>\n",
       "    </tr>\n",
       "    <tr>\n",
       "      <th>ProductRelated_Duration</th>\n",
       "      <td>False</td>\n",
       "    </tr>\n",
       "    <tr>\n",
       "      <th>BounceRates</th>\n",
       "      <td>True</td>\n",
       "    </tr>\n",
       "    <tr>\n",
       "      <th>ExitRates</th>\n",
       "      <td>True</td>\n",
       "    </tr>\n",
       "    <tr>\n",
       "      <th>PageValues</th>\n",
       "      <td>True</td>\n",
       "    </tr>\n",
       "    <tr>\n",
       "      <th>SpecialDay</th>\n",
       "      <td>True</td>\n",
       "    </tr>\n",
       "    <tr>\n",
       "      <th>Month_no</th>\n",
       "      <td>True</td>\n",
       "    </tr>\n",
       "    <tr>\n",
       "      <th>OperatingSystems_no</th>\n",
       "      <td>True</td>\n",
       "    </tr>\n",
       "    <tr>\n",
       "      <th>Browser_no</th>\n",
       "      <td>False</td>\n",
       "    </tr>\n",
       "    <tr>\n",
       "      <th>Region_no</th>\n",
       "      <td>False</td>\n",
       "    </tr>\n",
       "    <tr>\n",
       "      <th>TrafficType_no</th>\n",
       "      <td>False</td>\n",
       "    </tr>\n",
       "    <tr>\n",
       "      <th>Weekend_no</th>\n",
       "      <td>True</td>\n",
       "    </tr>\n",
       "    <tr>\n",
       "      <th>VisitorType_no</th>\n",
       "      <td>True</td>\n",
       "    </tr>\n",
       "  </tbody>\n",
       "</table>\n",
       "</div>"
      ],
      "text/plain": [
       "                         Feature Selected?\n",
       "Administrative                       False\n",
       "Administrative_Duration              False\n",
       "Informational                         True\n",
       "Informational_Duration               False\n",
       "ProductRelated                       False\n",
       "ProductRelated_Duration              False\n",
       "BounceRates                           True\n",
       "ExitRates                             True\n",
       "PageValues                            True\n",
       "SpecialDay                            True\n",
       "Month_no                              True\n",
       "OperatingSystems_no                   True\n",
       "Browser_no                           False\n",
       "Region_no                            False\n",
       "TrafficType_no                       False\n",
       "Weekend_no                            True\n",
       "VisitorType_no                        True"
      ]
     },
     "execution_count": 129,
     "metadata": {},
     "output_type": "execute_result"
    }
   ],
   "source": [
    "df_fs = pd.DataFrame(rfecv.support_, index=df.select_dtypes(exclude=['object']).columns, columns=['Feature Selected?'])\n",
    "df_fs"
   ]
  },
  {
   "cell_type": "markdown",
   "metadata": {},
   "source": [
    "We can see **BounceRates** and **ExitRates** were selected. However our Correlation Analysis shows these two features are highly correlated. There are no strong correlation between any of the other selected features.\n",
    "\n",
    "To avoid collinearity issues in our model, we will drop either **BounceRates** or **ExitRates**. To see which feature to drop, we will look at the feature importances given by the model coefficients in **RFECV**."
   ]
  },
  {
   "cell_type": "code",
   "execution_count": 203,
   "metadata": {},
   "outputs": [
    {
     "data": {
      "text/html": [
       "<div>\n",
       "<style scoped>\n",
       "    .dataframe tbody tr th:only-of-type {\n",
       "        vertical-align: middle;\n",
       "    }\n",
       "\n",
       "    .dataframe tbody tr th {\n",
       "        vertical-align: top;\n",
       "    }\n",
       "\n",
       "    .dataframe thead th {\n",
       "        text-align: right;\n",
       "    }\n",
       "</style>\n",
       "<table border=\"1\" class=\"dataframe\">\n",
       "  <thead>\n",
       "    <tr style=\"text-align: right;\">\n",
       "      <th></th>\n",
       "      <th>Feature Importances</th>\n",
       "    </tr>\n",
       "  </thead>\n",
       "  <tbody>\n",
       "    <tr>\n",
       "      <th>Informational</th>\n",
       "      <td>0.096305</td>\n",
       "    </tr>\n",
       "    <tr>\n",
       "      <th>BounceRates</th>\n",
       "      <td>-1.504416</td>\n",
       "    </tr>\n",
       "    <tr>\n",
       "      <th>ExitRates</th>\n",
       "      <td>-19.475710</td>\n",
       "    </tr>\n",
       "    <tr>\n",
       "      <th>PageValues</th>\n",
       "      <td>0.079582</td>\n",
       "    </tr>\n",
       "    <tr>\n",
       "      <th>SpecialDay</th>\n",
       "      <td>-0.382395</td>\n",
       "    </tr>\n",
       "    <tr>\n",
       "      <th>Month_no</th>\n",
       "      <td>0.097641</td>\n",
       "    </tr>\n",
       "    <tr>\n",
       "      <th>OperatingSystems_no</th>\n",
       "      <td>-0.091135</td>\n",
       "    </tr>\n",
       "    <tr>\n",
       "      <th>Weekend_no</th>\n",
       "      <td>0.131792</td>\n",
       "    </tr>\n",
       "    <tr>\n",
       "      <th>VisitorType_no</th>\n",
       "      <td>0.104333</td>\n",
       "    </tr>\n",
       "  </tbody>\n",
       "</table>\n",
       "</div>"
      ],
      "text/plain": [
       "                     Feature Importances\n",
       "Informational                   0.096305\n",
       "BounceRates                    -1.504416\n",
       "ExitRates                     -19.475710\n",
       "PageValues                      0.079582\n",
       "SpecialDay                     -0.382395\n",
       "Month_no                        0.097641\n",
       "OperatingSystems_no            -0.091135\n",
       "Weekend_no                      0.131792\n",
       "VisitorType_no                  0.104333"
      ]
     },
     "execution_count": 203,
     "metadata": {},
     "output_type": "execute_result"
    }
   ],
   "source": [
    "df_fi = pd.DataFrame(rfecv.estimator_.coef_.T, index=df_fs[df_fs['Feature Selected?']==True].index, \n",
    "                     columns=['Feature Importances'])\n",
    "df_fi"
   ]
  },
  {
   "cell_type": "markdown",
   "metadata": {},
   "source": [
    "We see the coefficient for **BounceRates** is closer to 0 than the coefficient for **ExitRates**. We will drop **BounceRates**."
   ]
  },
  {
   "cell_type": "code",
   "execution_count": 159,
   "metadata": {},
   "outputs": [],
   "source": [
    "lst_fs = df_fs[df_fs['Feature Selected?']==True].index.tolist()\n",
    "X_fs = df[lst_fs].drop('BounceRates', axis=1)"
   ]
  },
  {
   "cell_type": "markdown",
   "metadata": {},
   "source": [
    "We now have 8 features selected to go into our model."
   ]
  },
  {
   "cell_type": "markdown",
   "metadata": {},
   "source": [
    "## Feature Engineering\n",
    "Let us now dummy code the categorical features selected in the Feature Selection step."
   ]
  },
  {
   "cell_type": "code",
   "execution_count": 161,
   "metadata": {},
   "outputs": [],
   "source": [
    "# Cast categorical features to object to perform one-hot encoding\n",
    "X_fs.loc[:,'Month_no'] = X_fs.loc[:,'Month_no'].astype(object)\n",
    "X_fs.loc[:,'OperatingSystems_no'] = X_fs.loc[:,'OperatingSystems_no'].astype(object)\n",
    "X_fs.loc[:,'Weekend_no'] = X_fs.loc[:,'Weekend_no'].astype(object)\n",
    "X_fs.loc[:,'VisitorType_no'] = X_fs.loc[:,'VisitorType_no'].astype(object)\n",
    "\n",
    "X_fe = pd.get_dummies(X_fs)"
   ]
  },
  {
   "cell_type": "markdown",
   "metadata": {},
   "source": [
    "## Model Development\n",
    "\n",
    "Let's start building our logistic regression model. \n",
    "\n",
    "First, we split our dataset into 80% training and 20% testing."
   ]
  },
  {
   "cell_type": "code",
   "execution_count": 189,
   "metadata": {},
   "outputs": [],
   "source": [
    "# test_size=0.2 chosen to get 80/20 split\n",
    "# random_state=2 chosen so the results are reproducible if the code is rerun\n",
    "X_train, X_test, Y_train, Y_test = model_selection.train_test_split(X_fe.values, Y_fs, test_size=0.2, random_state=2)"
   ]
  },
  {
   "cell_type": "markdown",
   "metadata": {},
   "source": [
    "We use scikit-learn's **LogisticRegression** to build our model."
   ]
  },
  {
   "cell_type": "code",
   "execution_count": 183,
   "metadata": {},
   "outputs": [],
   "source": [
    "# penalty='none' chosen to exclude any regularization at this stage\n",
    "# max_iter=10000 chosen to ensure there is enough iterations for convergence\n",
    "model = linear_model.LogisticRegression(penalty='none', max_iter=10000).fit(X_train, Y_train)"
   ]
  },
  {
   "cell_type": "markdown",
   "metadata": {},
   "source": [
    "F1 score on test set:"
   ]
  },
  {
   "cell_type": "code",
   "execution_count": 204,
   "metadata": {},
   "outputs": [
    {
     "name": "stdout",
     "output_type": "stream",
     "text": [
      "F1 score: 0.874\n"
     ]
    }
   ],
   "source": [
    "Y_hat = model.predict(X_test)\n",
    "print('F1 score: %.3f' % f1_score(Y_test, Y_hat, average='weighted'))"
   ]
  },
  {
   "cell_type": "markdown",
   "metadata": {},
   "source": [
    "Our F1 score of 87.4% is quite good to start off with!"
   ]
  },
  {
   "cell_type": "markdown",
   "metadata": {},
   "source": [
    "## Model Refinement\n",
    "\n",
    "Let's have a look to see if we could refine our model by adjusting for any presence of overfitting to the training set or for any remaining collinearities present in our selected features. To do this, we will use **ElasticNet**, which consists of two parts:\n",
    "- **Lasso** regression which adds a L1 regularization term to the loss function.\n",
    "- **Ridge** regression which adds a L2 regularization term to the loss function.\n",
    "\n",
    "We will use scikit-learn's **LogisticRegressionCV** to perform **ElasticNet**. This package has the option to choose the value of two hyperparameters to control for **ElasticNet**'s regularization:\n",
    "- the **ElasticNet** regularization term, L1-ratio (=ratio of L1 to L2 term).\n",
    "- the inverse of regularization strength, C (where smaller values specify stronger regularization). \n",
    "\n",
    "We will use cross-validation in **LogisticRegressionCV** (with default 5-folds) to find the optimal values for L1-ratio and C."
   ]
  },
  {
   "cell_type": "code",
   "execution_count": 187,
   "metadata": {},
   "outputs": [],
   "source": [
    "# Create a list of values [0, 0.1, 0.2,...,1.0] for L1-ratio\n",
    "lst_l1_ratio = np.linspace(0, 1, 11).tolist()"
   ]
  },
  {
   "cell_type": "code",
   "execution_count": 188,
   "metadata": {},
   "outputs": [],
   "source": [
    "# Cs=10 chosen to use the package's default list of values for C\n",
    "# penalty='elasticnet' chosen to apply L1-ratio regularization term to the loss function\n",
    "# scoring='f1' chosen to return F1-score\n",
    "# solver='saga' algorithm chosen to apply ElasticNet\n",
    "# max_iter=10000 chosen to ensure there is enough iterations for convergence\n",
    "# n_jobs=-1 chosen to use all CPU processors for faster processsing\n",
    "# l1_ratios=lst_l1_ratio to use the list of L1-ratio values we have created\n",
    "model_ref = linear_model.LogisticRegressionCV(Cs=10, penalty='elasticnet', scoring='f1', solver='saga', max_iter=10000, \\ \n",
    "                                              n_jobs=-1, l1_ratios=lst_l1_ratio).fit(X_train, Y_train)"
   ]
  },
  {
   "cell_type": "code",
   "execution_count": 201,
   "metadata": {},
   "outputs": [
    {
     "name": "stdout",
     "output_type": "stream",
     "text": [
      "Optimal L1-ratio: 0.000\n",
      "Optimal C: 0.359\n"
     ]
    }
   ],
   "source": [
    "print('Optimal L1-ratio: %.3f' % model_ref.l1_ratio_[0,])\n",
    "print('Optimal C: %.3f' % model_ref.C_[0,])"
   ]
  },
  {
   "cell_type": "markdown",
   "metadata": {},
   "source": [
    "We see the optimal value for L1-ratio is 0 which means our model is refined completely using **Ridge** regression.\n",
    "\n",
    "F1 score on test set:"
   ]
  },
  {
   "cell_type": "code",
   "execution_count": 205,
   "metadata": {},
   "outputs": [
    {
     "name": "stdout",
     "output_type": "stream",
     "text": [
      "F1 score: 0.875\n"
     ]
    }
   ],
   "source": [
    "Y_hat = model_ref.predict(X_test)\n",
    "print('F1 score: %.3f' % f1_score(Y_test, Y_hat, average='weighted'))"
   ]
  },
  {
   "cell_type": "markdown",
   "metadata": {},
   "source": [
    "The F1 score is close to the F1 score of 87.4% prior to refinement, which means our model building process before Model Refinement had done a good job in not overfitting to the training set and taken into account collinearities in the features.\n",
    "\n",
    "With an F1 score of 87.5%, our model performs quite well even though we had a slight inbalance in our target variable as noted earlier. We will still however, see if we could further improve the performance by applying boosting to our model."
   ]
  },
  {
   "cell_type": "markdown",
   "metadata": {},
   "source": [
    "## AdaBoost\n",
    "\n",
    "**Adaboost** is a boosting technique which works by successively giving more weights to misclassified samples in previous ensembles of weak estimators, in the hope that this would improve the performance of the model.\n",
    "\n",
    "To find the optimal number of weak estimators to use, we will perform **Adaboost** on our refined model by fitting an increasing number of weak estimators at each step, say between 5 to 200 weak estimators (incremented by 5 at each step) and obtain the test set performance at each step. We then plot the test set performance againts the number of weak estimators and choose the optimal number of weak estimators when the test set performance is at a maximum.\n",
    "\n",
    "We will use scikit-learn's **AdaBoostClassifier** to do this."
   ]
  },
  {
   "cell_type": "code",
   "execution_count": 18,
   "metadata": {},
   "outputs": [],
   "source": [
    "# Create a list of values [5, 10, 15,...,200] for the number of weak estimators\n",
    "lst_n_estimators = np.arange(5,205,5).tolist()\n",
    "\n",
    "# Initialize empty list for the test set F1 score\n",
    "f1_sc = []\n",
    "\n",
    "# penalty='elasticnet' chosen to apply L1-ratio regularization term to the loss function\n",
    "# C=0.359 chosen as this is the optimal C value\n",
    "# solver='saga' algorithm chosen to apply ElasticNet\n",
    "# max_iter = 10000000 chosen to ensure there is enough iterations for convergence\n",
    "# warm_start=True chosen to reuse the previous fit model for faster processsing\n",
    "# l1_ratio = 0.0 chosen as this is the optimal L1-ratio value\n",
    "# n_estimators=i to iterate through the list of number of weak estimators [5, 10, 15,...,200]\n",
    "# learning_rate=0.01 set to a small value to ensure global minimum is reached when optimizing loss function\n",
    "# random_state=3 chosen so the results are reproducible if the code is rerun\n",
    "for i in lst_n_estimators:\n",
    "    adaboost_model = AdaBoostClassifier(base_estimator=linear_model.LogisticRegression(penalty='elasticnet', C=0.359, \\\n",
    "                                                                                       solver='saga', max_iter=10000000, \\\n",
    "                                                                                       warm_start=True, l1_ratio=0.0), \\\n",
    "                                        n_estimators=i, learning_rate=0.01, random_state=3).fit(X_train, Y_train.reshape(-1))\n",
    "    Y_hat = adaboost_model.predict(X_test)\n",
    "    f1_sc.append(f1_score(Y_test, Y_hat, average='weighted'))"
   ]
  },
  {
   "cell_type": "code",
   "execution_count": 19,
   "metadata": {},
   "outputs": [
    {
     "data": {
      "image/png": "[encoded data removed]",
      "text/plain": [
       "<Figure size 432x288 with 1 Axes>"
      ]
     },
     "metadata": {
      "needs_background": "light"
     },
     "output_type": "display_data"
    }
   ],
   "source": [
    "# Plot F1 score vs. number of Adaboost estimators\n",
    "plt.plot(np.arange(5,205,5), f1_sc)\n",
    "plt.xlabel('Number of AdaBoost Estimators')\n",
    "plt.ylabel('F1 Score')\n",
    "plt.title('F1 Score vs. Number of AdaBoost Estimators')\n",
    "plt.show()"
   ]
  },
  {
   "cell_type": "markdown",
   "metadata": {},
   "source": [
    "As the number of estimators increases, we see the F1 score initially increases (due to underfitting of our model to misclassified samples) until it reaches a maximum somewhere in between 75 to 100 estimators and then it decreases (due to overfitting of our model to misclassified samples).\n",
    "\n",
    "Let's have a look at how many estimators occurs at this maximum F1 score."
   ]
  },
  {
   "cell_type": "code",
   "execution_count": 37,
   "metadata": {},
   "outputs": [
    {
     "data": {
      "text/plain": [
       "(85, 0.8931104078959075)"
      ]
     },
     "execution_count": 37,
     "metadata": {},
     "output_type": "execute_result"
    }
   ],
   "source": [
    "np.arange(5,205,5)[np.argmax(np.array(f1_sc), axis=0)], np.array(f1_sc)[np.argmax(np.array(f1_sc), axis=0)]"
   ]
  },
  {
   "cell_type": "markdown",
   "metadata": {},
   "source": [
    "The maximum F1 score of 89.3% occurs where there are 85 estimators.\n",
    "\n",
    "This is an improvement to our refined model which has an F1 score of 87.5%!\n",
    "\n",
    "Let's have a look at the AUC score on the test set."
   ]
  },
  {
   "cell_type": "code",
   "execution_count": 215,
   "metadata": {},
   "outputs": [
    {
     "name": "stdout",
     "output_type": "stream",
     "text": [
      "AUC score: 0.814\n"
     ]
    }
   ],
   "source": [
    "# Fit the same AdaBoost model but with n_estimators=85\n",
    "adaboost_model = AdaBoostClassifier(base_estimator=linear_model.LogisticRegression(penalty='elasticnet', C=0.359, \\\n",
    "                                                                                   solver='saga', max_iter=10000000, \\\n",
    "                                                                                   warm_start=True, l1_ratio=0.0), \\\n",
    "                                    n_estimators=85, learning_rate=0.01, random_state=3).fit(X_train, Y_train.reshape(-1))\n",
    "Y_hat_prob = adaboost_model.predict_proba(X_test)\n",
    "print('AUC score: %.3f' % roc_auc_score(Y_test, Y_hat_prob[:,1]))"
   ]
  },
  {
   "cell_type": "markdown",
   "metadata": {},
   "source": [
    "## XgBoost\n",
    "\n",
    "Let's do a quick baseline comparison of our model with the popular **XgBoost** model. **XgBoost** is a tree based model which applies a boosting technique which works by successively adding a regularization term to the loss function in a step-wise manner to previous ensembles of weak estimators and then optimizing this loss function, in the hope that this would improve the performance of the model.\n",
    "\n",
    "We will use **XGBClassifier** in the **XgBoost** library and using most of the package's default hyperparameter values."
   ]
  },
  {
   "cell_type": "code",
   "execution_count": 252,
   "metadata": {},
   "outputs": [],
   "source": [
    "# learning_rate=0.01 set to a small value to ensure global minimum is reached when optimising loss function\n",
    "# objective='binary:logistic' chosen as our logistic model is of the same type for fair comparison\n",
    "# booster='gblinear' chosen as our logistic model is of a linear type for fair comparison\n",
    "# reg_alpha = 0.0 chosen as the optimal L1-ratio value of our logistic model is 0 for fair comparison\n",
    "xgboost_model = XGBClassifier(learning_rate=0.01, objective='binary:logistic', booster='gblinear', reg_alpha=0.0) \\\n",
    "                .fit(X_train, Y_train)"
   ]
  },
  {
   "cell_type": "markdown",
   "metadata": {},
   "source": [
    "F1 score on test set:"
   ]
  },
  {
   "cell_type": "code",
   "execution_count": 221,
   "metadata": {},
   "outputs": [
    {
     "name": "stdout",
     "output_type": "stream",
     "text": [
      "F1 score: 0.828\n"
     ]
    }
   ],
   "source": [
    "Y_hat = xgboost_model.predict(X_test)\n",
    "print('F1 score: %.3f' % f1_score(Y_test, Y_hat, average='weighted'))"
   ]
  },
  {
   "cell_type": "markdown",
   "metadata": {},
   "source": [
    "AUC score on test set:"
   ]
  },
  {
   "cell_type": "code",
   "execution_count": 222,
   "metadata": {},
   "outputs": [
    {
     "name": "stdout",
     "output_type": "stream",
     "text": [
      "AUC score: 0.818\n"
     ]
    }
   ],
   "source": [
    "Y_hat_prob = xgboost_model.predict_proba(X_test)\n",
    "print('AUC score: %.3f' % roc_auc_score(Y_test, Y_hat_prob[:,1]))"
   ]
  },
  {
   "cell_type": "markdown",
   "metadata": {},
   "source": [
    "The F1 score of our **Regularized Logistic AdaBoost** model (at 89.3%) is higher than that of the **XgBoost** model (at 82.8%)!\n",
    "\n",
    "The AUC score for both models are about the same (at 81.4% and 81.8%) which indicates overall both models perform the similarly. We have done a fairly good job in building our **Regularized Logistic AdaBoost** model matching that of the **XgBoost** model!"
   ]
  },
  {
   "cell_type": "markdown",
   "metadata": {},
   "source": [
    "## Post-Model Analysis\n",
    "\n",
    "Using the **Regularized Logistic AdaBoost** model that we have built, let's see if we could derive any insights about our data.\n",
    "\n",
    "We are interested to see what customer's online purchasing intention are like during weekdays and weekends throughout each month of the year."
   ]
  },
  {
   "cell_type": "code",
   "execution_count": 44,
   "metadata": {},
   "outputs": [],
   "source": [
    "# Create a dataframe of dummy coded values for each combination of Weekend and Month\n",
    "X_Weekend_Month = np.zeros((20,27))\n",
    "df_Weekend_Month = pd.DataFrame(X_Weekend_Month, columns=X_fe.columns)\n",
    "df_Weekend_Month.loc[0, ['Weekend_0', 'Month_no_2']] = 1\n",
    "df_Weekend_Month.loc[1, ['Weekend_1', 'Month_no_2']] = 1\n",
    "df_Weekend_Month.loc[2, ['Weekend_0', 'Month_no_3']] = 1\n",
    "df_Weekend_Month.loc[3, ['Weekend_1', 'Month_no_3']] = 1\n",
    "df_Weekend_Month.loc[4, ['Weekend_0', 'Month_no_5']] = 1\n",
    "df_Weekend_Month.loc[5, ['Weekend_1', 'Month_no_5']] = 1\n",
    "df_Weekend_Month.loc[6, ['Weekend_0', 'Month_no_6']] = 1\n",
    "df_Weekend_Month.loc[7, ['Weekend_1', 'Month_no_6']] = 1\n",
    "df_Weekend_Month.loc[8, ['Weekend_0', 'Month_no_7']] = 1\n",
    "df_Weekend_Month.loc[9, ['Weekend_1', 'Month_no_7']] = 1\n",
    "df_Weekend_Month.loc[10, ['Weekend_0', 'Month_no_8']] = 1\n",
    "df_Weekend_Month.loc[11, ['Weekend_1', 'Month_no_8']] = 1\n",
    "df_Weekend_Month.loc[12, ['Weekend_0', 'Month_no_9']] = 1\n",
    "df_Weekend_Month.loc[13, ['Weekend_1', 'Month_no_9']] = 1\n",
    "df_Weekend_Month.loc[14, ['Weekend_0', 'Month_no_10']] = 1\n",
    "df_Weekend_Month.loc[15, ['Weekend_1', 'Month_no_10']] = 1\n",
    "df_Weekend_Month.loc[16, ['Weekend_0', 'Month_no_11']] = 1\n",
    "df_Weekend_Month.loc[17, ['Weekend_1', 'Month_no_11']] = 1\n",
    "df_Weekend_Month.loc[18, ['Weekend_0', 'Month_no_12']] = 1\n",
    "df_Weekend_Month.loc[19, ['Weekend_1', 'Month_no_12']] = 1"
   ]
  },
  {
   "cell_type": "code",
   "execution_count": 228,
   "metadata": {},
   "outputs": [],
   "source": [
    "# Obtain the probability of a purchase for each combination of Weekend and Month\n",
    "Y_hat_prob = adaboost_model.predict_proba(df_Weekend_Month.values)"
   ]
  },
  {
   "cell_type": "code",
   "execution_count": 251,
   "metadata": {},
   "outputs": [
    {
     "data": {
      "text/html": [
       "<div>\n",
       "<style scoped>\n",
       "    .dataframe tbody tr th:only-of-type {\n",
       "        vertical-align: middle;\n",
       "    }\n",
       "\n",
       "    .dataframe tbody tr th {\n",
       "        vertical-align: top;\n",
       "    }\n",
       "\n",
       "    .dataframe thead th {\n",
       "        text-align: right;\n",
       "    }\n",
       "</style>\n",
       "<table border=\"1\" class=\"dataframe\">\n",
       "  <thead>\n",
       "    <tr style=\"text-align: right;\">\n",
       "      <th></th>\n",
       "      <th>Weekend</th>\n",
       "      <th>Month</th>\n",
       "      <th>Probability of A Purchase (%)</th>\n",
       "    </tr>\n",
       "  </thead>\n",
       "  <tbody>\n",
       "    <tr>\n",
       "      <th>1</th>\n",
       "      <td>Yes</td>\n",
       "      <td>Feb</td>\n",
       "      <td>48.722</td>\n",
       "    </tr>\n",
       "    <tr>\n",
       "      <th>7</th>\n",
       "      <td>Yes</td>\n",
       "      <td>Jun</td>\n",
       "      <td>48.717</td>\n",
       "    </tr>\n",
       "    <tr>\n",
       "      <th>13</th>\n",
       "      <td>Yes</td>\n",
       "      <td>Sep</td>\n",
       "      <td>48.711</td>\n",
       "    </tr>\n",
       "    <tr>\n",
       "      <th>11</th>\n",
       "      <td>Yes</td>\n",
       "      <td>Aug</td>\n",
       "      <td>48.71</td>\n",
       "    </tr>\n",
       "    <tr>\n",
       "      <th>9</th>\n",
       "      <td>Yes</td>\n",
       "      <td>Jul</td>\n",
       "      <td>48.708</td>\n",
       "    </tr>\n",
       "    <tr>\n",
       "      <th>15</th>\n",
       "      <td>Yes</td>\n",
       "      <td>Oct</td>\n",
       "      <td>48.705</td>\n",
       "    </tr>\n",
       "    <tr>\n",
       "      <th>19</th>\n",
       "      <td>Yes</td>\n",
       "      <td>Dec</td>\n",
       "      <td>48.603</td>\n",
       "    </tr>\n",
       "    <tr>\n",
       "      <th>3</th>\n",
       "      <td>Yes</td>\n",
       "      <td>Mar</td>\n",
       "      <td>48.583</td>\n",
       "    </tr>\n",
       "    <tr>\n",
       "      <th>17</th>\n",
       "      <td>Yes</td>\n",
       "      <td>Nov</td>\n",
       "      <td>48.578</td>\n",
       "    </tr>\n",
       "    <tr>\n",
       "      <th>5</th>\n",
       "      <td>Yes</td>\n",
       "      <td>May</td>\n",
       "      <td>48.465</td>\n",
       "    </tr>\n",
       "    <tr>\n",
       "      <th>0</th>\n",
       "      <td>No</td>\n",
       "      <td>Feb</td>\n",
       "      <td>48.224</td>\n",
       "    </tr>\n",
       "    <tr>\n",
       "      <th>6</th>\n",
       "      <td>No</td>\n",
       "      <td>Jun</td>\n",
       "      <td>48.219</td>\n",
       "    </tr>\n",
       "    <tr>\n",
       "      <th>12</th>\n",
       "      <td>No</td>\n",
       "      <td>Sep</td>\n",
       "      <td>48.213</td>\n",
       "    </tr>\n",
       "    <tr>\n",
       "      <th>10</th>\n",
       "      <td>No</td>\n",
       "      <td>Aug</td>\n",
       "      <td>48.213</td>\n",
       "    </tr>\n",
       "    <tr>\n",
       "      <th>8</th>\n",
       "      <td>No</td>\n",
       "      <td>Jul</td>\n",
       "      <td>48.21</td>\n",
       "    </tr>\n",
       "    <tr>\n",
       "      <th>14</th>\n",
       "      <td>No</td>\n",
       "      <td>Oct</td>\n",
       "      <td>48.207</td>\n",
       "    </tr>\n",
       "    <tr>\n",
       "      <th>18</th>\n",
       "      <td>No</td>\n",
       "      <td>Dec</td>\n",
       "      <td>48.105</td>\n",
       "    </tr>\n",
       "    <tr>\n",
       "      <th>2</th>\n",
       "      <td>No</td>\n",
       "      <td>Mar</td>\n",
       "      <td>48.085</td>\n",
       "    </tr>\n",
       "    <tr>\n",
       "      <th>16</th>\n",
       "      <td>No</td>\n",
       "      <td>Nov</td>\n",
       "      <td>48.08</td>\n",
       "    </tr>\n",
       "    <tr>\n",
       "      <th>4</th>\n",
       "      <td>No</td>\n",
       "      <td>May</td>\n",
       "      <td>47.967</td>\n",
       "    </tr>\n",
       "  </tbody>\n",
       "</table>\n",
       "</div>"
      ],
      "text/plain": [
       "   Weekend Month Probability of A Purchase (%)\n",
       "1      Yes   Feb                        48.722\n",
       "7      Yes   Jun                        48.717\n",
       "13     Yes   Sep                        48.711\n",
       "11     Yes   Aug                         48.71\n",
       "9      Yes   Jul                        48.708\n",
       "15     Yes   Oct                        48.705\n",
       "19     Yes   Dec                        48.603\n",
       "3      Yes   Mar                        48.583\n",
       "17     Yes   Nov                        48.578\n",
       "5      Yes   May                        48.465\n",
       "0       No   Feb                        48.224\n",
       "6       No   Jun                        48.219\n",
       "12      No   Sep                        48.213\n",
       "10      No   Aug                        48.213\n",
       "8       No   Jul                         48.21\n",
       "14      No   Oct                        48.207\n",
       "18      No   Dec                        48.105\n",
       "2       No   Mar                        48.085\n",
       "16      No   Nov                         48.08\n",
       "4       No   May                        47.967"
      ]
     },
     "execution_count": 251,
     "metadata": {},
     "output_type": "execute_result"
    }
   ],
   "source": [
    "# Create dataframe sorted by probability of a purchase\n",
    "lst_Weekend_Month = [\n",
    "['No', 'Feb'],\n",
    "['Yes', 'Feb'],\n",
    "['No', 'Mar'],\n",
    "['Yes', 'Mar'],\n",
    "['No', 'May'],\n",
    "['Yes', 'May'],\n",
    "['No', 'Jun'],\n",
    "['Yes', 'Jun'],\n",
    "['No', 'Jul'],\n",
    "['Yes', 'Jul'],\n",
    "['No', 'Aug'],\n",
    "['Yes', 'Aug'],\n",
    "['No', 'Sep'],\n",
    "['Yes', 'Sep'],\n",
    "['No', 'Oct'],\n",
    "['Yes', 'Oct'],\n",
    "['No', 'Nov'],\n",
    "['Yes', 'Nov'],\n",
    "['No', 'Dec'],\n",
    "['Yes', 'Dec']\n",
    "]\n",
    "\n",
    "arr_Weekend_Month_Y_hat_prob = np.column_stack((np.array(lst_Weekend_Month), np.around(Y_hat_prob[:,1]*100, decimals=3)))\n",
    "pd.DataFrame(arr_Weekend_Month_Y_hat_prob, columns=['Weekend', 'Month', 'Probability of A Purchase (%)']) \\\n",
    "            .sort_values(by='Probability of A Purchase (%)', ascending=False)"
   ]
  },
  {
   "cell_type": "markdown",
   "metadata": {},
   "source": [
    "The table above shows the chance of a customer making an online purchase (in %) when visiting the e-commerce website during a weekday and weekend for each month, sorted by most likely to least likely to make a purchase.\n",
    "\n",
    "Our model shows a customer is more likely to make an online purchase on the weekend rather than a weekday across all months.\n",
    "\n",
    "Surprisingly, even though the two peaks in May and November we observed earlier has the highest number of visits to the e-commerce website, our model shows the chance of a customer making an online purchase during these 2 months are the lowest compared to the other months.\n",
    "\n",
    "If the e-commerce website intends to carry out sales or promotions to entice customers to make a purchase, we would recommend the website to do this during the other months which are not in May or November, and on weekends, since customers who visits the website are more likely to make an online purchase on weekends during months not in May or November."
   ]
  },
  {
   "cell_type": "code",
   "execution_count": null,
   "metadata": {},
   "outputs": [],
   "source": []
  }
 ],
 "metadata": {
  "kernelspec": {
   "display_name": "Python 3",
   "language": "python",
   "name": "python3"
  },
  "language_info": {
   "codemirror_mode": {
    "name": "ipython",
    "version": 3
   },
   "file_extension": ".py",
   "mimetype": "text/x-python",
   "name": "python",
   "nbconvert_exporter": "python",
   "pygments_lexer": "ipython3",
   "version": "3.7.6"
  }
 },
 "nbformat": 4,
 "nbformat_minor": 4
}
